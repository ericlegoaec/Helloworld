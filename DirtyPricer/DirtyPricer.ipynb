
# coding: utf-8

# In[ ]:

import pandas as pd
import numpy as np
import itertools
from IPython.display import display
import ipywidgets as widgets

from dirtypricer import dirty_pricer, OptionType
from tick import get_up_tick, get_down_tick, snap_to_closest_tick
import dataclean

horizon_input = dataclean.get_horizon_input()
referential_input = dataclean.get_referential()

joined_raw_data = pd.concat([horizon_input, referential_input], axis=1, join='inner')


# In[ ]:

def time_difference(past_date, future_date): # Actual/365
    return [dtoffset.days / 365 for dtoffset in future_date - past_date]

joined_raw_data['remaining_maturity'] = time_difference(pd.to_datetime('today'), joined_raw_data['maturity'])


# In[ ]:

def box(number): return widgets.FloatText(number)

@widgets.interact(quick_warrant='28402', sigma=box(0.1), spot_price=box(5.42), forward_price=box(0))
def foo(quick_warrant, sigma, spot_price, forward_price):
    
    if not forward_price:
        basis = joined_raw_data.ix[quick_warrant, 'spot_price'] - joined_raw_data.ix[quick_warrant, 'forward_price']
        forward_price = spot_price - basis
    
    quick_dp = pd.DataFrame([{'sigma': sigma, 
                              'forward_price': forward_price, 
                              'spot_price': spot_price}], 
                            index=[quick_warrant])

    quick_pricing = (joined_raw_data
                     .ix[[quick_warrant]]
                     .drop('horizon_theo_price', 1)
                     .drop('maturity', 1)
                     .drop('sigma', 1)
                     .drop('forward_price', 1)
                     .drop('spot_price', 1)
                     .join(quick_dp, how='outer')
    )

    quick_pricing['option_price'] = dirty_pricer(**quick_pricing
                                          .ix[[quick_warrant]]
                                          .drop('spot_price', 1)
                                          .to_dict('sequence'))
    
    return quick_pricing


# In[ ]:

def get_vol_range(vol, length):
    vol_list = [vol + offset * 0.01 for offset in range(-length, length + 1)]
    return vol_list

def get_spot_range(spot, length):
    spot_list = [spot]
    this_spot = get_up_tick(spot)
    for i in range(length):
        this_spot, spot_list = get_up_tick(this_spot), spot_list + [this_spot]

    this_spot = get_down_tick(spot)
    for i in range(length):
        this_spot, spot_list = get_down_tick(this_spot), [this_spot] + spot_list 
    
    return spot_list


# In[ ]:

mesh_spot_offset = 5
mesh_vol_offset = 3

warrant_meshes = pd.DataFrame()
for warrant_code in joined_raw_data.index:
    basis = joined_raw_data.ix[warrant_code, 'spot_price'] - joined_raw_data.ix[warrant_code, 'forward_price']    
    
    center_spot = snap_to_closest_tick(joined_raw_data.ix[warrant_code, 'spot_price'])
    center_vol = joined_raw_data.ix[warrant_code, 'sigma']
    
    warrant_mesh = pd.DataFrame(list(itertools.product(
                                    get_spot_range(center_spot, mesh_spot_offset), 
                                    get_vol_range(center_vol, mesh_vol_offset))),
                                columns=['spot_price', 'sigma']
                               )
    warrant_mesh['warrant_code'] = warrant_code
    warrant_mesh['forward_price'] = warrant_mesh['spot_price'] - basis

    warrant_meshes = warrant_meshes.append(warrant_mesh)

warrant_meshes = warrant_meshes.set_index('warrant_code')
warrant_meshes.index.name = None


# In[ ]:

result = (joined_raw_data
 .drop('horizon_theo_price', 1)
 .drop('maturity', 1)
 .drop('sigma', 1)
 .drop('forward_price', 1)
 .drop('spot_price', 1)
 .join(warrant_meshes, how='outer')
)
result['option_price'] = dirty_pricer(**result
                                      .drop('spot_price', 1)
                                      .to_dict('sequence'))


# In[ ]:

@widgets.interact(warrant_code='29463')
def pivot_upon_warrant(warrant_code):
    pivotted = (result
                .ix[warrant_code, ['spot_price', 'forward_price', 'sigma', 'option_price']]
                .pivot(index='spot_price', columns = 'sigma', values = 'option_price'))

    with pd.option_context('display.precision',4):

        def highlight_center(s):
            center_spot = pivotted.index.to_series().median()
            center_vol = pivotted.columns.to_series().median()
            return ['background-color: lightcyan' if v else '' for v in ((s.index == center_spot) | (s.name == center_vol))]

        display(pivotted
                .style            
                .apply(highlight_center))

